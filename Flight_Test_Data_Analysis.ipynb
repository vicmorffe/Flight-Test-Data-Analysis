{
  "nbformat": 4,
  "nbformat_minor": 0,
  "metadata": {
    "colab": {
      "provenance": [],
      "authorship_tag": "ABX9TyPiOb2aqkaJGjJMj7ul8klm",
      "include_colab_link": true
    },
    "kernelspec": {
      "name": "python3",
      "display_name": "Python 3"
    },
    "language_info": {
      "name": "python"
    }
  },
  "cells": [
    {
      "cell_type": "markdown",
      "metadata": {
        "id": "view-in-github",
        "colab_type": "text"
      },
      "source": [
        "<a href=\"https://colab.research.google.com/github/vicmorffe/Flight-Test-Data-Analysis/blob/main/Flight_Test_Data_Analysis.ipynb\" target=\"_parent\"><img src=\"https://colab.research.google.com/assets/colab-badge.svg\" alt=\"Open In Colab\"/></a>"
      ]
    },
    {
      "cell_type": "code",
      "execution_count": null,
      "metadata": {
        "id": "8ovpK3qfsurd"
      },
      "outputs": [],
      "source": [
        "import pandas as pd\n",
        "import numpy as np\n",
        "import matplotlib.pyplot as plt"
      ]
    },
    {
      "cell_type": "code",
      "source": [
        "from google.colab import files"
      ],
      "metadata": {
        "id": "2Qs2t79Itx2P"
      },
      "execution_count": null,
      "outputs": []
    },
    {
      "cell_type": "code",
      "source": [
        "from google.colab import drive\n",
        "drive.mount('/content/drive')"
      ],
      "metadata": {
        "colab": {
          "base_uri": "https://localhost:8080/"
        },
        "id": "Gr5nN9yjvTIp",
        "outputId": "63c899e5-d567-4e4e-fb4f-b615f9e5db20"
      },
      "execution_count": null,
      "outputs": [
        {
          "output_type": "stream",
          "name": "stdout",
          "text": [
            "Mounted at /content/drive\n"
          ]
        }
      ]
    },
    {
      "cell_type": "code",
      "source": [
        "df = pd.read_excel('/content/drive/MyDrive/Colab Notebooks/L39_flight1.xlsx')\n",
        "df.shape"
      ],
      "metadata": {
        "colab": {
          "base_uri": "https://localhost:8080/"
        },
        "id": "7eEuxo5YwFBp",
        "outputId": "694ece33-3825-450f-fedf-20f666d1c938"
      },
      "execution_count": null,
      "outputs": [
        {
          "output_type": "execute_result",
          "data": {
            "text/plain": [
              "(35034, 41)"
            ]
          },
          "metadata": {},
          "execution_count": 5
        }
      ]
    },
    {
      "cell_type": "code",
      "source": [
        "df.head(5)"
      ],
      "metadata": {
        "colab": {
          "base_uri": "https://localhost:8080/",
          "height": 317
        },
        "id": "Hm6nA4Sdwh-p",
        "outputId": "bd24214e-5a20-4314-c2e8-f7bb3adfd2b9"
      },
      "execution_count": null,
      "outputs": [
        {
          "output_type": "execute_result",
          "data": {
            "text/plain": [
              "   Unnamed: 0   Time  radalt     rpm  stick_pitch  stick_bank  rud_ped  \\\n",
              "0           0  0.033  4.8336  0.4277      -0.0083      0.0458      0.0   \n",
              "1           1  0.068  4.8079  0.4277      -0.0083      0.0463      0.0   \n",
              "2           2  0.133  4.7186  0.4277      -0.0084      0.0461      0.0   \n",
              "3           3  0.155  4.6720  0.4277      -0.0080      0.0462      0.0   \n",
              "4           4  0.182  4.6108  0.4277      -0.0081      0.0460      0.0   \n",
              "\n",
              "     fuel  throttle     AOA  ...  Vel_North  Vel_East  Vel_Down  Wind_Vel_N  \\\n",
              "0  0.9969       0.2 -0.4766  ...     0.0018   -0.0026   -0.1138           0   \n",
              "1  0.9969       0.2 -0.4785  ...     0.0039   -0.0067   -0.3170           0   \n",
              "2  0.9969       0.2 -0.4865  ...     0.0106   -0.0086   -0.5668           0   \n",
              "3  0.9969       0.2 -0.4895  ...     0.0228   -0.0017   -0.6158           0   \n",
              "4  0.9969       0.2 -0.4916  ...     0.0523    0.0209   -0.6128           0   \n",
              "\n",
              "   Wind_Vel_E  Wind_Vel_D      Lat      Lon  gps-alt     WOW  \n",
              "0           0     -0.1138  41.6037  41.6092    11.52  0.0000  \n",
              "1           0     -0.3170  41.6037  41.6092    11.51  0.0000  \n",
              "2           0     -0.5668  41.6037  41.6092    11.48  0.0008  \n",
              "3           0     -0.6158  41.6037  41.6092    11.47  0.0088  \n",
              "4           0     -0.6128  41.6037  41.6092    11.45  0.0223  \n",
              "\n",
              "[5 rows x 41 columns]"
            ],
            "text/html": [
              "\n",
              "  <div id=\"df-d40624e8-eff5-4b6f-89f0-53a645efe943\">\n",
              "    <div class=\"colab-df-container\">\n",
              "      <div>\n",
              "<style scoped>\n",
              "    .dataframe tbody tr th:only-of-type {\n",
              "        vertical-align: middle;\n",
              "    }\n",
              "\n",
              "    .dataframe tbody tr th {\n",
              "        vertical-align: top;\n",
              "    }\n",
              "\n",
              "    .dataframe thead th {\n",
              "        text-align: right;\n",
              "    }\n",
              "</style>\n",
              "<table border=\"1\" class=\"dataframe\">\n",
              "  <thead>\n",
              "    <tr style=\"text-align: right;\">\n",
              "      <th></th>\n",
              "      <th>Unnamed: 0</th>\n",
              "      <th>Time</th>\n",
              "      <th>radalt</th>\n",
              "      <th>rpm</th>\n",
              "      <th>stick_pitch</th>\n",
              "      <th>stick_bank</th>\n",
              "      <th>rud_ped</th>\n",
              "      <th>fuel</th>\n",
              "      <th>throttle</th>\n",
              "      <th>AOA</th>\n",
              "      <th>...</th>\n",
              "      <th>Vel_North</th>\n",
              "      <th>Vel_East</th>\n",
              "      <th>Vel_Down</th>\n",
              "      <th>Wind_Vel_N</th>\n",
              "      <th>Wind_Vel_E</th>\n",
              "      <th>Wind_Vel_D</th>\n",
              "      <th>Lat</th>\n",
              "      <th>Lon</th>\n",
              "      <th>gps-alt</th>\n",
              "      <th>WOW</th>\n",
              "    </tr>\n",
              "  </thead>\n",
              "  <tbody>\n",
              "    <tr>\n",
              "      <th>0</th>\n",
              "      <td>0</td>\n",
              "      <td>0.033</td>\n",
              "      <td>4.8336</td>\n",
              "      <td>0.4277</td>\n",
              "      <td>-0.0083</td>\n",
              "      <td>0.0458</td>\n",
              "      <td>0.0</td>\n",
              "      <td>0.9969</td>\n",
              "      <td>0.2</td>\n",
              "      <td>-0.4766</td>\n",
              "      <td>...</td>\n",
              "      <td>0.0018</td>\n",
              "      <td>-0.0026</td>\n",
              "      <td>-0.1138</td>\n",
              "      <td>0</td>\n",
              "      <td>0</td>\n",
              "      <td>-0.1138</td>\n",
              "      <td>41.6037</td>\n",
              "      <td>41.6092</td>\n",
              "      <td>11.52</td>\n",
              "      <td>0.0000</td>\n",
              "    </tr>\n",
              "    <tr>\n",
              "      <th>1</th>\n",
              "      <td>1</td>\n",
              "      <td>0.068</td>\n",
              "      <td>4.8079</td>\n",
              "      <td>0.4277</td>\n",
              "      <td>-0.0083</td>\n",
              "      <td>0.0463</td>\n",
              "      <td>0.0</td>\n",
              "      <td>0.9969</td>\n",
              "      <td>0.2</td>\n",
              "      <td>-0.4785</td>\n",
              "      <td>...</td>\n",
              "      <td>0.0039</td>\n",
              "      <td>-0.0067</td>\n",
              "      <td>-0.3170</td>\n",
              "      <td>0</td>\n",
              "      <td>0</td>\n",
              "      <td>-0.3170</td>\n",
              "      <td>41.6037</td>\n",
              "      <td>41.6092</td>\n",
              "      <td>11.51</td>\n",
              "      <td>0.0000</td>\n",
              "    </tr>\n",
              "    <tr>\n",
              "      <th>2</th>\n",
              "      <td>2</td>\n",
              "      <td>0.133</td>\n",
              "      <td>4.7186</td>\n",
              "      <td>0.4277</td>\n",
              "      <td>-0.0084</td>\n",
              "      <td>0.0461</td>\n",
              "      <td>0.0</td>\n",
              "      <td>0.9969</td>\n",
              "      <td>0.2</td>\n",
              "      <td>-0.4865</td>\n",
              "      <td>...</td>\n",
              "      <td>0.0106</td>\n",
              "      <td>-0.0086</td>\n",
              "      <td>-0.5668</td>\n",
              "      <td>0</td>\n",
              "      <td>0</td>\n",
              "      <td>-0.5668</td>\n",
              "      <td>41.6037</td>\n",
              "      <td>41.6092</td>\n",
              "      <td>11.48</td>\n",
              "      <td>0.0008</td>\n",
              "    </tr>\n",
              "    <tr>\n",
              "      <th>3</th>\n",
              "      <td>3</td>\n",
              "      <td>0.155</td>\n",
              "      <td>4.6720</td>\n",
              "      <td>0.4277</td>\n",
              "      <td>-0.0080</td>\n",
              "      <td>0.0462</td>\n",
              "      <td>0.0</td>\n",
              "      <td>0.9969</td>\n",
              "      <td>0.2</td>\n",
              "      <td>-0.4895</td>\n",
              "      <td>...</td>\n",
              "      <td>0.0228</td>\n",
              "      <td>-0.0017</td>\n",
              "      <td>-0.6158</td>\n",
              "      <td>0</td>\n",
              "      <td>0</td>\n",
              "      <td>-0.6158</td>\n",
              "      <td>41.6037</td>\n",
              "      <td>41.6092</td>\n",
              "      <td>11.47</td>\n",
              "      <td>0.0088</td>\n",
              "    </tr>\n",
              "    <tr>\n",
              "      <th>4</th>\n",
              "      <td>4</td>\n",
              "      <td>0.182</td>\n",
              "      <td>4.6108</td>\n",
              "      <td>0.4277</td>\n",
              "      <td>-0.0081</td>\n",
              "      <td>0.0460</td>\n",
              "      <td>0.0</td>\n",
              "      <td>0.9969</td>\n",
              "      <td>0.2</td>\n",
              "      <td>-0.4916</td>\n",
              "      <td>...</td>\n",
              "      <td>0.0523</td>\n",
              "      <td>0.0209</td>\n",
              "      <td>-0.6128</td>\n",
              "      <td>0</td>\n",
              "      <td>0</td>\n",
              "      <td>-0.6128</td>\n",
              "      <td>41.6037</td>\n",
              "      <td>41.6092</td>\n",
              "      <td>11.45</td>\n",
              "      <td>0.0223</td>\n",
              "    </tr>\n",
              "  </tbody>\n",
              "</table>\n",
              "<p>5 rows × 41 columns</p>\n",
              "</div>\n",
              "      <button class=\"colab-df-convert\" onclick=\"convertToInteractive('df-d40624e8-eff5-4b6f-89f0-53a645efe943')\"\n",
              "              title=\"Convert this dataframe to an interactive table.\"\n",
              "              style=\"display:none;\">\n",
              "        \n",
              "  <svg xmlns=\"http://www.w3.org/2000/svg\" height=\"24px\"viewBox=\"0 0 24 24\"\n",
              "       width=\"24px\">\n",
              "    <path d=\"M0 0h24v24H0V0z\" fill=\"none\"/>\n",
              "    <path d=\"M18.56 5.44l.94 2.06.94-2.06 2.06-.94-2.06-.94-.94-2.06-.94 2.06-2.06.94zm-11 1L8.5 8.5l.94-2.06 2.06-.94-2.06-.94L8.5 2.5l-.94 2.06-2.06.94zm10 10l.94 2.06.94-2.06 2.06-.94-2.06-.94-.94-2.06-.94 2.06-2.06.94z\"/><path d=\"M17.41 7.96l-1.37-1.37c-.4-.4-.92-.59-1.43-.59-.52 0-1.04.2-1.43.59L10.3 9.45l-7.72 7.72c-.78.78-.78 2.05 0 2.83L4 21.41c.39.39.9.59 1.41.59.51 0 1.02-.2 1.41-.59l7.78-7.78 2.81-2.81c.8-.78.8-2.07 0-2.86zM5.41 20L4 18.59l7.72-7.72 1.47 1.35L5.41 20z\"/>\n",
              "  </svg>\n",
              "      </button>\n",
              "      \n",
              "  <style>\n",
              "    .colab-df-container {\n",
              "      display:flex;\n",
              "      flex-wrap:wrap;\n",
              "      gap: 12px;\n",
              "    }\n",
              "\n",
              "    .colab-df-convert {\n",
              "      background-color: #E8F0FE;\n",
              "      border: none;\n",
              "      border-radius: 50%;\n",
              "      cursor: pointer;\n",
              "      display: none;\n",
              "      fill: #1967D2;\n",
              "      height: 32px;\n",
              "      padding: 0 0 0 0;\n",
              "      width: 32px;\n",
              "    }\n",
              "\n",
              "    .colab-df-convert:hover {\n",
              "      background-color: #E2EBFA;\n",
              "      box-shadow: 0px 1px 2px rgba(60, 64, 67, 0.3), 0px 1px 3px 1px rgba(60, 64, 67, 0.15);\n",
              "      fill: #174EA6;\n",
              "    }\n",
              "\n",
              "    [theme=dark] .colab-df-convert {\n",
              "      background-color: #3B4455;\n",
              "      fill: #D2E3FC;\n",
              "    }\n",
              "\n",
              "    [theme=dark] .colab-df-convert:hover {\n",
              "      background-color: #434B5C;\n",
              "      box-shadow: 0px 1px 3px 1px rgba(0, 0, 0, 0.15);\n",
              "      filter: drop-shadow(0px 1px 2px rgba(0, 0, 0, 0.3));\n",
              "      fill: #FFFFFF;\n",
              "    }\n",
              "  </style>\n",
              "\n",
              "      <script>\n",
              "        const buttonEl =\n",
              "          document.querySelector('#df-d40624e8-eff5-4b6f-89f0-53a645efe943 button.colab-df-convert');\n",
              "        buttonEl.style.display =\n",
              "          google.colab.kernel.accessAllowed ? 'block' : 'none';\n",
              "\n",
              "        async function convertToInteractive(key) {\n",
              "          const element = document.querySelector('#df-d40624e8-eff5-4b6f-89f0-53a645efe943');\n",
              "          const dataTable =\n",
              "            await google.colab.kernel.invokeFunction('convertToInteractive',\n",
              "                                                     [key], {});\n",
              "          if (!dataTable) return;\n",
              "\n",
              "          const docLinkHtml = 'Like what you see? Visit the ' +\n",
              "            '<a target=\"_blank\" href=https://colab.research.google.com/notebooks/data_table.ipynb>data table notebook</a>'\n",
              "            + ' to learn more about interactive tables.';\n",
              "          element.innerHTML = '';\n",
              "          dataTable['output_type'] = 'display_data';\n",
              "          await google.colab.output.renderOutput(dataTable, element);\n",
              "          const docLink = document.createElement('div');\n",
              "          docLink.innerHTML = docLinkHtml;\n",
              "          element.appendChild(docLink);\n",
              "        }\n",
              "      </script>\n",
              "    </div>\n",
              "  </div>\n",
              "  "
            ]
          },
          "metadata": {},
          "execution_count": 6
        }
      ]
    },
    {
      "cell_type": "code",
      "source": [
        "time = df['Time']\n",
        "alt = df['AGL']\n",
        "IAS = df['IAS']\n",
        "Alpha = ['AOA']\n"
      ],
      "metadata": {
        "id": "HssiCHD-_bXU"
      },
      "execution_count": 7,
      "outputs": []
    },
    {
      "cell_type": "code",
      "source": [
        "Fig1 = plt.plot(alt)\n",
        "plt.grid()"
      ],
      "metadata": {
        "id": "tZ70T5ztwns1",
        "colab": {
          "base_uri": "https://localhost:8080/",
          "height": 430
        },
        "outputId": "e4dcc79c-47db-40f3-e391-c8cd307a072e"
      },
      "execution_count": 13,
      "outputs": [
        {
          "output_type": "display_data",
          "data": {
            "text/plain": [
              "<Figure size 640x480 with 1 Axes>"
            ],
            "image/png": "[encoded data removed]"
          },
          "metadata": {}
        }
      ]
    },
    {
      "cell_type": "code",
      "source": [
        "Fig2 = plt.plot(IAS)\n",
        "plt.grid()"
      ],
      "metadata": {
        "colab": {
          "base_uri": "https://localhost:8080/",
          "height": 430
        },
        "id": "S5YH_12VAVyo",
        "outputId": "ff58c66e-d3a0-4e0c-a7fe-08a272fad6a5"
      },
      "execution_count": 14,
      "outputs": [
        {
          "output_type": "display_data",
          "data": {
            "text/plain": [
              "<Figure size 640x480 with 1 Axes>"
            ],
            "image/png": "[encoded data removed]"
          },
          "metadata": {}
        }
      ]
    },
    {
      "cell_type": "markdown",
      "source": [
        "**TEST** **POINTS**\n",
        "\n",
        "---"
      ],
      "metadata": {
        "id": "vBjY4OcsBj4y"
      }
    },
    {
      "cell_type": "code",
      "source": [
        "df_takeoff = df[0:2500]\n",
        "Fig3 = plt.plot(df_takeoff['ASL'])"
      ],
      "metadata": {
        "colab": {
          "base_uri": "https://localhost:8080/",
          "height": 430
        },
        "id": "-YuSodr7CE_y",
        "outputId": "96099791-6377-4be1-99ed-c4c8ec2f43f1"
      },
      "execution_count": 19,
      "outputs": [
        {
          "output_type": "display_data",
          "data": {
            "text/plain": [
              "<Figure size 640x480 with 1 Axes>"
            ],
            "image/png": "[encoded data removed]"
          },
          "metadata": {}
        }
      ]
    },
    {
      "cell_type": "code",
      "source": [
        "df_takeoff.describe()"
      ],
      "metadata": {
        "colab": {
          "base_uri": "https://localhost:8080/",
          "height": 411
        },
        "id": "MuuzO1GcFP0V",
        "outputId": "9dbc91e5-15a2-4cc0-9b54-15563f1aaf2f"
      },
      "execution_count": 20,
      "outputs": [
        {
          "output_type": "execute_result",
          "data": {
            "text/plain": [
              "       Unnamed: 0         Time       radalt          rpm  stick_pitch  \\\n",
              "count  2500.00000  2500.000000  2500.000000  2500.000000  2500.000000   \n",
              "mean   1249.50000    41.418778   493.342068     0.915366    -0.047203   \n",
              "std     721.83216    24.159722   623.416801     0.144676     0.069889   \n",
              "min       0.00000     0.033000     4.486100     0.427700    -0.425200   \n",
              "25%     624.75000    20.667250     4.624000     0.970900    -0.056000   \n",
              "50%    1249.50000    40.881500   155.266800     0.970900    -0.026950   \n",
              "75%    1874.25000    61.782000   799.609675     0.970900    -0.005500   \n",
              "max    2499.00000    84.103000  1947.475600     0.972500     0.041400   \n",
              "\n",
              "        stick_bank      rud_ped         fuel     throttle          AOA  ...  \\\n",
              "count  2500.000000  2500.000000  2500.000000  2500.000000  2500.000000  ...   \n",
              "mean      0.019121    -0.036598     0.983393     0.936342     4.176492  ...   \n",
              "std       0.064719     0.172490     0.009482     0.175622     4.135293  ...   \n",
              "min      -0.396400    -0.855500     0.966100     0.200000    -2.051900  ...   \n",
              "25%      -0.006000    -0.002000     0.975300     1.000000    -0.345225  ...   \n",
              "50%       0.021100     0.000000     0.984000     1.000000     5.168500  ...   \n",
              "75%       0.061800     0.000000     0.992300     1.000000     7.367425  ...   \n",
              "max       0.205000     0.513700     0.996900     1.000000    14.580900  ...   \n",
              "\n",
              "         Vel_North     Vel_East     Vel_Down  Wind_Vel_N  Wind_Vel_E  \\\n",
              "count  2500.000000  2500.000000  2500.000000      2500.0      2500.0   \n",
              "mean     35.073498   -28.281732     6.695176         0.0         0.0   \n",
              "std      26.056026    26.664617     7.262904         0.0         0.0   \n",
              "min      -0.019100   -67.925900    -0.615800         0.0         0.0   \n",
              "25%      12.468175   -52.322750     0.000900         0.0         0.0   \n",
              "50%      34.406000   -33.005800     5.116050         0.0         0.0   \n",
              "75%      49.459950    -0.033800    11.650650         0.0         0.0   \n",
              "max      82.918400    18.949700    25.439500         0.0         0.0   \n",
              "\n",
              "        Wind_Vel_D          Lat          Lon      gps-alt          WOW  \n",
              "count  2500.000000  2500.000000  2500.000000  2500.000000  2500.000000  \n",
              "mean      6.695176    41.612240    41.597734   158.052580     0.010705  \n",
              "std       7.262904     0.008656     0.010401   186.141364     0.040872  \n",
              "min      -0.615800    41.603700    41.582000    11.410000    -0.170800  \n",
              "25%       0.000900    41.604100    41.586300    11.450000    -0.005325  \n",
              "50%       5.116050    41.609700    41.600000    57.395000     0.006650  \n",
              "75%      11.650650    41.618100    41.608700   253.820000     0.033450  \n",
              "max      25.439500    41.632600    41.609200   593.820000     0.181700  \n",
              "\n",
              "[8 rows x 41 columns]"
            ],
            "text/html": [
              "\n",
              "  <div id=\"df-c4a68bb2-1c27-4c80-bf95-c40716f97396\">\n",
              "    <div class=\"colab-df-container\">\n",
              "      <div>\n",
              "<style scoped>\n",
              "    .dataframe tbody tr th:only-of-type {\n",
              "        vertical-align: middle;\n",
              "    }\n",
              "\n",
              "    .dataframe tbody tr th {\n",
              "        vertical-align: top;\n",
              "    }\n",
              "\n",
              "    .dataframe thead th {\n",
              "        text-align: right;\n",
              "    }\n",
              "</style>\n",
              "<table border=\"1\" class=\"dataframe\">\n",
              "  <thead>\n",
              "    <tr style=\"text-align: right;\">\n",
              "      <th></th>\n",
              "      <th>Unnamed: 0</th>\n",
              "      <th>Time</th>\n",
              "      <th>radalt</th>\n",
              "      <th>rpm</th>\n",
              "      <th>stick_pitch</th>\n",
              "      <th>stick_bank</th>\n",
              "      <th>rud_ped</th>\n",
              "      <th>fuel</th>\n",
              "      <th>throttle</th>\n",
              "      <th>AOA</th>\n",
              "      <th>...</th>\n",
              "      <th>Vel_North</th>\n",
              "      <th>Vel_East</th>\n",
              "      <th>Vel_Down</th>\n",
              "      <th>Wind_Vel_N</th>\n",
              "      <th>Wind_Vel_E</th>\n",
              "      <th>Wind_Vel_D</th>\n",
              "      <th>Lat</th>\n",
              "      <th>Lon</th>\n",
              "      <th>gps-alt</th>\n",
              "      <th>WOW</th>\n",
              "    </tr>\n",
              "  </thead>\n",
              "  <tbody>\n",
              "    <tr>\n",
              "      <th>count</th>\n",
              "      <td>2500.00000</td>\n",
              "      <td>2500.000000</td>\n",
              "      <td>2500.000000</td>\n",
              "      <td>2500.000000</td>\n",
              "      <td>2500.000000</td>\n",
              "      <td>2500.000000</td>\n",
              "      <td>2500.000000</td>\n",
              "      <td>2500.000000</td>\n",
              "      <td>2500.000000</td>\n",
              "      <td>2500.000000</td>\n",
              "      <td>...</td>\n",
              "      <td>2500.000000</td>\n",
              "      <td>2500.000000</td>\n",
              "      <td>2500.000000</td>\n",
              "      <td>2500.0</td>\n",
              "      <td>2500.0</td>\n",
              "      <td>2500.000000</td>\n",
              "      <td>2500.000000</td>\n",
              "      <td>2500.000000</td>\n",
              "      <td>2500.000000</td>\n",
              "      <td>2500.000000</td>\n",
              "    </tr>\n",
              "    <tr>\n",
              "      <th>mean</th>\n",
              "      <td>1249.50000</td>\n",
              "      <td>41.418778</td>\n",
              "      <td>493.342068</td>\n",
              "      <td>0.915366</td>\n",
              "      <td>-0.047203</td>\n",
              "      <td>0.019121</td>\n",
              "      <td>-0.036598</td>\n",
              "      <td>0.983393</td>\n",
              "      <td>0.936342</td>\n",
              "      <td>4.176492</td>\n",
              "      <td>...</td>\n",
              "      <td>35.073498</td>\n",
              "      <td>-28.281732</td>\n",
              "      <td>6.695176</td>\n",
              "      <td>0.0</td>\n",
              "      <td>0.0</td>\n",
              "      <td>6.695176</td>\n",
              "      <td>41.612240</td>\n",
              "      <td>41.597734</td>\n",
              "      <td>158.052580</td>\n",
              "      <td>0.010705</td>\n",
              "    </tr>\n",
              "    <tr>\n",
              "      <th>std</th>\n",
              "      <td>721.83216</td>\n",
              "      <td>24.159722</td>\n",
              "      <td>623.416801</td>\n",
              "      <td>0.144676</td>\n",
              "      <td>0.069889</td>\n",
              "      <td>0.064719</td>\n",
              "      <td>0.172490</td>\n",
              "      <td>0.009482</td>\n",
              "      <td>0.175622</td>\n",
              "      <td>4.135293</td>\n",
              "      <td>...</td>\n",
              "      <td>26.056026</td>\n",
              "      <td>26.664617</td>\n",
              "      <td>7.262904</td>\n",
              "      <td>0.0</td>\n",
              "      <td>0.0</td>\n",
              "      <td>7.262904</td>\n",
              "      <td>0.008656</td>\n",
              "      <td>0.010401</td>\n",
              "      <td>186.141364</td>\n",
              "      <td>0.040872</td>\n",
              "    </tr>\n",
              "    <tr>\n",
              "      <th>min</th>\n",
              "      <td>0.00000</td>\n",
              "      <td>0.033000</td>\n",
              "      <td>4.486100</td>\n",
              "      <td>0.427700</td>\n",
              "      <td>-0.425200</td>\n",
              "      <td>-0.396400</td>\n",
              "      <td>-0.855500</td>\n",
              "      <td>0.966100</td>\n",
              "      <td>0.200000</td>\n",
              "      <td>-2.051900</td>\n",
              "      <td>...</td>\n",
              "      <td>-0.019100</td>\n",
              "      <td>-67.925900</td>\n",
              "      <td>-0.615800</td>\n",
              "      <td>0.0</td>\n",
              "      <td>0.0</td>\n",
              "      <td>-0.615800</td>\n",
              "      <td>41.603700</td>\n",
              "      <td>41.582000</td>\n",
              "      <td>11.410000</td>\n",
              "      <td>-0.170800</td>\n",
              "    </tr>\n",
              "    <tr>\n",
              "      <th>25%</th>\n",
              "      <td>624.75000</td>\n",
              "      <td>20.667250</td>\n",
              "      <td>4.624000</td>\n",
              "      <td>0.970900</td>\n",
              "      <td>-0.056000</td>\n",
              "      <td>-0.006000</td>\n",
              "      <td>-0.002000</td>\n",
              "      <td>0.975300</td>\n",
              "      <td>1.000000</td>\n",
              "      <td>-0.345225</td>\n",
              "      <td>...</td>\n",
              "      <td>12.468175</td>\n",
              "      <td>-52.322750</td>\n",
              "      <td>0.000900</td>\n",
              "      <td>0.0</td>\n",
              "      <td>0.0</td>\n",
              "      <td>0.000900</td>\n",
              "      <td>41.604100</td>\n",
              "      <td>41.586300</td>\n",
              "      <td>11.450000</td>\n",
              "      <td>-0.005325</td>\n",
              "    </tr>\n",
              "    <tr>\n",
              "      <th>50%</th>\n",
              "      <td>1249.50000</td>\n",
              "      <td>40.881500</td>\n",
              "      <td>155.266800</td>\n",
              "      <td>0.970900</td>\n",
              "      <td>-0.026950</td>\n",
              "      <td>0.021100</td>\n",
              "      <td>0.000000</td>\n",
              "      <td>0.984000</td>\n",
              "      <td>1.000000</td>\n",
              "      <td>5.168500</td>\n",
              "      <td>...</td>\n",
              "      <td>34.406000</td>\n",
              "      <td>-33.005800</td>\n",
              "      <td>5.116050</td>\n",
              "      <td>0.0</td>\n",
              "      <td>0.0</td>\n",
              "      <td>5.116050</td>\n",
              "      <td>41.609700</td>\n",
              "      <td>41.600000</td>\n",
              "      <td>57.395000</td>\n",
              "      <td>0.006650</td>\n",
              "    </tr>\n",
              "    <tr>\n",
              "      <th>75%</th>\n",
              "      <td>1874.25000</td>\n",
              "      <td>61.782000</td>\n",
              "      <td>799.609675</td>\n",
              "      <td>0.970900</td>\n",
              "      <td>-0.005500</td>\n",
              "      <td>0.061800</td>\n",
              "      <td>0.000000</td>\n",
              "      <td>0.992300</td>\n",
              "      <td>1.000000</td>\n",
              "      <td>7.367425</td>\n",
              "      <td>...</td>\n",
              "      <td>49.459950</td>\n",
              "      <td>-0.033800</td>\n",
              "      <td>11.650650</td>\n",
              "      <td>0.0</td>\n",
              "      <td>0.0</td>\n",
              "      <td>11.650650</td>\n",
              "      <td>41.618100</td>\n",
              "      <td>41.608700</td>\n",
              "      <td>253.820000</td>\n",
              "      <td>0.033450</td>\n",
              "    </tr>\n",
              "    <tr>\n",
              "      <th>max</th>\n",
              "      <td>2499.00000</td>\n",
              "      <td>84.103000</td>\n",
              "      <td>1947.475600</td>\n",
              "      <td>0.972500</td>\n",
              "      <td>0.041400</td>\n",
              "      <td>0.205000</td>\n",
              "      <td>0.513700</td>\n",
              "      <td>0.996900</td>\n",
              "      <td>1.000000</td>\n",
              "      <td>14.580900</td>\n",
              "      <td>...</td>\n",
              "      <td>82.918400</td>\n",
              "      <td>18.949700</td>\n",
              "      <td>25.439500</td>\n",
              "      <td>0.0</td>\n",
              "      <td>0.0</td>\n",
              "      <td>25.439500</td>\n",
              "      <td>41.632600</td>\n",
              "      <td>41.609200</td>\n",
              "      <td>593.820000</td>\n",
              "      <td>0.181700</td>\n",
              "    </tr>\n",
              "  </tbody>\n",
              "</table>\n",
              "<p>8 rows × 41 columns</p>\n",
              "</div>\n",
              "      <button class=\"colab-df-convert\" onclick=\"convertToInteractive('df-c4a68bb2-1c27-4c80-bf95-c40716f97396')\"\n",
              "              title=\"Convert this dataframe to an interactive table.\"\n",
              "              style=\"display:none;\">\n",
              "        \n",
              "  <svg xmlns=\"http://www.w3.org/2000/svg\" height=\"24px\"viewBox=\"0 0 24 24\"\n",
              "       width=\"24px\">\n",
              "    <path d=\"M0 0h24v24H0V0z\" fill=\"none\"/>\n",
              "    <path d=\"M18.56 5.44l.94 2.06.94-2.06 2.06-.94-2.06-.94-.94-2.06-.94 2.06-2.06.94zm-11 1L8.5 8.5l.94-2.06 2.06-.94-2.06-.94L8.5 2.5l-.94 2.06-2.06.94zm10 10l.94 2.06.94-2.06 2.06-.94-2.06-.94-.94-2.06-.94 2.06-2.06.94z\"/><path d=\"M17.41 7.96l-1.37-1.37c-.4-.4-.92-.59-1.43-.59-.52 0-1.04.2-1.43.59L10.3 9.45l-7.72 7.72c-.78.78-.78 2.05 0 2.83L4 21.41c.39.39.9.59 1.41.59.51 0 1.02-.2 1.41-.59l7.78-7.78 2.81-2.81c.8-.78.8-2.07 0-2.86zM5.41 20L4 18.59l7.72-7.72 1.47 1.35L5.41 20z\"/>\n",
              "  </svg>\n",
              "      </button>\n",
              "      \n",
              "  <style>\n",
              "    .colab-df-container {\n",
              "      display:flex;\n",
              "      flex-wrap:wrap;\n",
              "      gap: 12px;\n",
              "    }\n",
              "\n",
              "    .colab-df-convert {\n",
              "      background-color: #E8F0FE;\n",
              "      border: none;\n",
              "      border-radius: 50%;\n",
              "      cursor: pointer;\n",
              "      display: none;\n",
              "      fill: #1967D2;\n",
              "      height: 32px;\n",
              "      padding: 0 0 0 0;\n",
              "      width: 32px;\n",
              "    }\n",
              "\n",
              "    .colab-df-convert:hover {\n",
              "      background-color: #E2EBFA;\n",
              "      box-shadow: 0px 1px 2px rgba(60, 64, 67, 0.3), 0px 1px 3px 1px rgba(60, 64, 67, 0.15);\n",
              "      fill: #174EA6;\n",
              "    }\n",
              "\n",
              "    [theme=dark] .colab-df-convert {\n",
              "      background-color: #3B4455;\n",
              "      fill: #D2E3FC;\n",
              "    }\n",
              "\n",
              "    [theme=dark] .colab-df-convert:hover {\n",
              "      background-color: #434B5C;\n",
              "      box-shadow: 0px 1px 3px 1px rgba(0, 0, 0, 0.15);\n",
              "      filter: drop-shadow(0px 1px 2px rgba(0, 0, 0, 0.3));\n",
              "      fill: #FFFFFF;\n",
              "    }\n",
              "  </style>\n",
              "\n",
              "      <script>\n",
              "        const buttonEl =\n",
              "          document.querySelector('#df-c4a68bb2-1c27-4c80-bf95-c40716f97396 button.colab-df-convert');\n",
              "        buttonEl.style.display =\n",
              "          google.colab.kernel.accessAllowed ? 'block' : 'none';\n",
              "\n",
              "        async function convertToInteractive(key) {\n",
              "          const element = document.querySelector('#df-c4a68bb2-1c27-4c80-bf95-c40716f97396');\n",
              "          const dataTable =\n",
              "            await google.colab.kernel.invokeFunction('convertToInteractive',\n",
              "                                                     [key], {});\n",
              "          if (!dataTable) return;\n",
              "\n",
              "          const docLinkHtml = 'Like what you see? Visit the ' +\n",
              "            '<a target=\"_blank\" href=https://colab.research.google.com/notebooks/data_table.ipynb>data table notebook</a>'\n",
              "            + ' to learn more about interactive tables.';\n",
              "          element.innerHTML = '';\n",
              "          dataTable['output_type'] = 'display_data';\n",
              "          await google.colab.output.renderOutput(dataTable, element);\n",
              "          const docLink = document.createElement('div');\n",
              "          docLink.innerHTML = docLinkHtml;\n",
              "          element.appendChild(docLink);\n",
              "        }\n",
              "      </script>\n",
              "    </div>\n",
              "  </div>\n",
              "  "
            ]
          },
          "metadata": {},
          "execution_count": 20
        }
      ]
    },
    {
      "cell_type": "code",
      "source": [
        "df_takeoff['AOA'].max()"
      ],
      "metadata": {
        "colab": {
          "base_uri": "https://localhost:8080/"
        },
        "id": "NJg9ytKVFdZs",
        "outputId": "0f5e61b3-626b-4e89-aeaa-eaeb242abdd6"
      },
      "execution_count": 21,
      "outputs": [
        {
          "output_type": "execute_result",
          "data": {
            "text/plain": [
              "14.5809"
            ]
          },
          "metadata": {},
          "execution_count": 21
        }
      ]
    },
    {
      "cell_type": "code",
      "source": [
        "df_takeoff['AOA'].min()"
      ],
      "metadata": {
        "colab": {
          "base_uri": "https://localhost:8080/"
        },
        "id": "Dn_KpgixFpcT",
        "outputId": "4d61aa93-7f7a-4f17-d6ba-108276043ffd"
      },
      "execution_count": 22,
      "outputs": [
        {
          "output_type": "execute_result",
          "data": {
            "text/plain": [
              "-2.0519"
            ]
          },
          "metadata": {},
          "execution_count": 22
        }
      ]
    },
    {
      "cell_type": "code",
      "source": [
        "df_takeoff['AOA'].median()"
      ],
      "metadata": {
        "colab": {
          "base_uri": "https://localhost:8080/"
        },
        "id": "wPZKSVZWFsuT",
        "outputId": "e4f2787e-832c-4bd5-88ab-a8d72ad332d5"
      },
      "execution_count": 23,
      "outputs": [
        {
          "output_type": "execute_result",
          "data": {
            "text/plain": [
              "5.1685"
            ]
          },
          "metadata": {},
          "execution_count": 23
        }
      ]
    }
  ]
}